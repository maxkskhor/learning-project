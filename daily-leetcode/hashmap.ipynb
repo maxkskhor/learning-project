{
 "cells": [
  {
   "cell_type": "markdown",
   "metadata": {},
   "source": [
    "# Resources\n",
    "https://docs.python.org/3/library/collections.html#collections.Counter"
   ]
  },
  {
   "cell_type": "code",
   "execution_count": 1,
   "metadata": {},
   "outputs": [
    {
     "name": "stdout",
     "output_type": "stream",
     "text": [
      "83\n",
      "True\n",
      "False\n",
      "4: 83\n",
      "8: 327\n",
      "45: 82523\n"
     ]
    }
   ],
   "source": [
    "my_hash_map = {}\n",
    "\n",
    "my_hash_map[4] = 83\n",
    "print(my_hash_map[4]) # Prints 83\n",
    "\n",
    "print(4 in my_hash_map) # Prints True\n",
    "print(854 in my_hash_map) # Prints False\n",
    "\n",
    "my_hash_map[8] = 327\n",
    "my_hash_map[45] = 82523\n",
    "\n",
    "for key, val in my_hash_map.items():\n",
    "    print(f\"{key}: {val}\")"
   ]
  },
  {
   "cell_type": "markdown",
   "metadata": {},
   "source": [
    "Example: You are given a string s and an integer k. Find the length of the longest substring that contains at most k distinct characters."
   ]
  },
  {
   "cell_type": "code",
   "execution_count": 1,
   "metadata": {},
   "outputs": [],
   "source": [
    "from collections import defaultdict\n",
    "\n",
    "def find_longest_substring(s, k):\n",
    "    counts = defaultdict(int)\n",
    "    left = ans = 0\n",
    "    for right in range(len(s)):\n",
    "        counts[s[right]] += 1\n",
    "        while len(counts) > k:\n",
    "            counts[s[left]] -= 1\n",
    "            if counts[s[left]] == 0:\n",
    "                del counts[s[left]]\n",
    "            left += 1\n",
    "        \n",
    "        ans = max(ans, right - left + 1)\n",
    "    \n",
    "    return ans"
   ]
  },
  {
   "cell_type": "code",
   "execution_count": 23,
   "metadata": {},
   "outputs": [
    {
     "data": {
      "text/plain": [
       "dict_values([1])"
      ]
     },
     "execution_count": 23,
     "metadata": {},
     "output_type": "execute_result"
    }
   ],
   "source": [
    "# can perform this operation\n",
    "# doesn't work on normal dict\n",
    "a = defaultdict(int)\n",
    "a['s'] += 1 \n",
    "\n",
    "a.values()"
   ]
  },
  {
   "cell_type": "markdown",
   "metadata": {},
   "source": [
    "1941. Check if All Characters Have Equal Number of Occurrences"
   ]
  },
  {
   "cell_type": "markdown",
   "metadata": {},
   "source": [
    "Given a string s, determine if all characters have the same frequency.\n",
    "\n",
    "For example, given s = \"abacbc\", return true. All characters appear twice. Given s = \"aaabb\", return false. \"a\" appears 3 times, \"b\" appears 2 times. 3 != 2."
   ]
  },
  {
   "cell_type": "markdown",
   "metadata": {},
   "source": [
    "Solution 1:"
   ]
  },
  {
   "cell_type": "code",
   "execution_count": null,
   "metadata": {},
   "outputs": [],
   "source": [
    "from collections import defaultdict\n",
    "\n",
    "class Solution:\n",
    "    def areOccurrencesEqual(self, s: str) -> bool:\n",
    "        counts = defaultdict(int)\n",
    "        for c in s:\n",
    "            counts[c] += 1\n",
    "        \n",
    "        frequencies = counts.values()\n",
    "        return len(set(frequencies)) == 1"
   ]
  },
  {
   "cell_type": "markdown",
   "metadata": {},
   "source": [
    "Solution 2:"
   ]
  },
  {
   "cell_type": "code",
   "execution_count": null,
   "metadata": {},
   "outputs": [],
   "source": [
    "from collections import Counter\n",
    "\n",
    "class Solution:\n",
    "    def areOccurrencesEqual(self, s: str) -> bool:\n",
    "        return len(set(Counter(s).values())) == 1"
   ]
  },
  {
   "cell_type": "markdown",
   "metadata": {},
   "source": [
    "560. Subarray Sum Equals K"
   ]
  },
  {
   "cell_type": "markdown",
   "metadata": {},
   "source": [
    "Given an integer array nums and an integer k, find the number of subarrays whose sum is equal to k."
   ]
  },
  {
   "cell_type": "code",
   "execution_count": null,
   "metadata": {},
   "outputs": [],
   "source": [
    "from collections import defaultdict\n",
    "\n",
    "class Solution:\n",
    "    def subarraySum(self, nums: List[int], k: int) -> int:\n",
    "        counts = defaultdict(int)\n",
    "        counts[0] = 1\n",
    "        ans = curr = 0\n",
    "\n",
    "        for num in nums:\n",
    "            curr += num\n",
    "            ans += counts[curr - k]\n",
    "            counts[curr] += 1\n",
    "    \n",
    "        return ans"
   ]
  }
 ],
 "metadata": {
  "kernelspec": {
   "display_name": "Python 3.10.7 64-bit",
   "language": "python",
   "name": "python3"
  },
  "language_info": {
   "codemirror_mode": {
    "name": "ipython",
    "version": 3
   },
   "file_extension": ".py",
   "mimetype": "text/x-python",
   "name": "python",
   "nbconvert_exporter": "python",
   "pygments_lexer": "ipython3",
   "version": "3.10.7"
  },
  "orig_nbformat": 4,
  "vscode": {
   "interpreter": {
    "hash": "d62193a71e9c74739063326a6f52db4b29a283e9561eba9fd4168253adc03d40"
   }
  }
 },
 "nbformat": 4,
 "nbformat_minor": 2
}
