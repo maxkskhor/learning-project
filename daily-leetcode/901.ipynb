{
 "cells": [
  {
   "cell_type": "code",
   "execution_count": null,
   "metadata": {},
   "outputs": [],
   "source": [
    "class StockSpanner:\n",
    "\n",
    "    def __init__(self):\n",
    "        self.stack = []\n",
    "\n",
    "    def next(self, price: int) -> int:\n",
    "        ans = 1\n",
    "        while self.stack and self.stack[-1][0] <= price:\n",
    "            ans += self.stack.pop()[1]\n",
    "        \n",
    "        self.stack.append([price, ans])\n",
    "        return ans"
   ]
  }
 ],
 "metadata": {
  "language_info": {
   "name": "python"
  },
  "orig_nbformat": 4
 },
 "nbformat": 4,
 "nbformat_minor": 2
}
