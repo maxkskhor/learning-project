{
 "cells": [
  {
   "cell_type": "code",
   "execution_count": 22,
   "metadata": {},
   "outputs": [],
   "source": [
    "import heapq\n",
    "# Note: Python's heapq implements a min heap"
   ]
  },
  {
   "cell_type": "code",
   "execution_count": 24,
   "metadata": {},
   "outputs": [],
   "source": [
    "def heapsort(iterable):\n",
    "    h = []\n",
    "    for value in iterable:\n",
    "        heapq.heappush(h, value)\n",
    "    return [heapq.heappop(h) for i in range(len(h))]"
   ]
  },
  {
   "cell_type": "code",
   "execution_count": 28,
   "metadata": {},
   "outputs": [
    {
     "name": "stdout",
     "output_type": "stream",
     "text": [
      "-5352\n",
      "-976\n",
      "-67\n",
      "12\n",
      "67\n",
      "234\n",
      "341\n",
      "7451\n"
     ]
    }
   ],
   "source": [
    "heap = [67, 341, 234, -67, 12, -976]\n",
    "heapq.heapify(heap)\n",
    "heapq.heappush(heap, 7451)\n",
    "heapq.heappush(heap, -5352)\n",
    "\n",
    "# The numbers will be printed in sorted order\n",
    "while heap:\n",
    "    print(heapq.heappop(heap))"
   ]
  },
  {
   "cell_type": "markdown",
   "metadata": {},
   "source": [
    "1046. Last Stone Weight"
   ]
  },
  {
   "cell_type": "markdown",
   "metadata": {},
   "source": [
    "You are given an array of integers stones where stones[i] is the weight of the ith stone.\n",
    "\n",
    "We are playing a game with the stones. On each turn, we choose the heaviest two stones and smash them together. Suppose the heaviest two stones have weights x and y with x <= y. The result of this smash is:\n",
    "\n",
    "If x == y, both stones are destroyed, and\n",
    "If x != y, the stone of weight x is destroyed, and the stone of weight y has new weight y - x.\n",
    "At the end of the game, there is at most one stone left.\n",
    "\n",
    "Return the weight of the last remaining stone. If there are no stones left, return 0.\n",
    "\n",
    " "
   ]
  },
  {
   "cell_type": "code",
   "execution_count": null,
   "metadata": {},
   "outputs": [],
   "source": [
    "import heapq\n",
    "\n",
    "class Solution:\n",
    "    def lastStoneWeight(self, stones: List[int]) -> int:\n",
    "        stones = [-stone for stone in stones]\n",
    "        heapq.heapify(stones) # turns an array into a heap in linear time\n",
    "        while len(stones) > 1:\n",
    "            first = abs(heapq.heappop(stones))\n",
    "            second = abs(heapq.heappop(stones))\n",
    "            if first != second:\n",
    "                heapq.heappush(stones, -abs(first - second))\n",
    "\n",
    "        return -stones[0] if stones else 0"
   ]
  }
 ],
 "metadata": {
  "kernelspec": {
   "display_name": "Python 3.10.7 64-bit",
   "language": "python",
   "name": "python3"
  },
  "language_info": {
   "codemirror_mode": {
    "name": "ipython",
    "version": 3
   },
   "file_extension": ".py",
   "mimetype": "text/x-python",
   "name": "python",
   "nbconvert_exporter": "python",
   "pygments_lexer": "ipython3",
   "version": "3.10.7"
  },
  "orig_nbformat": 4,
  "vscode": {
   "interpreter": {
    "hash": "d62193a71e9c74739063326a6f52db4b29a283e9561eba9fd4168253adc03d40"
   }
  }
 },
 "nbformat": 4,
 "nbformat_minor": 2
}
