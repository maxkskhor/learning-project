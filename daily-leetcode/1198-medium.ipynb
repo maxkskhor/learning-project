{
 "cells": [
  {
   "cell_type": "code",
   "execution_count": null,
   "metadata": {},
   "outputs": [],
   "source": [
    "from collections import defaultdict\n",
    "\n",
    "class Solution:\n",
    "    def smallestCommonElement(self, mat: List[List[int]]) -> int:\n",
    "        n = len(mat[0])\n",
    "        m = len(mat)\n",
    "        \n",
    "        counts = defaultdict(int)\n",
    "        \n",
    "        for i in mat[0]:\n",
    "            counts[i] += 1\n",
    "        for j in range(m):\n",
    "            for i in mat[j]:\n",
    "                if i in counts and counts[i] == 1:\n",
    "                    counts[i] += 1\n",
    "                while ()\n",
    "                    if j < 2:\n",
    "                        j = 0\n",
    "                    else:\n",
    "                        j = 1\n",
    "        print(counts)\n",
    "        for i, j in counts.items():\n",
    "            if j == 0:\n",
    "                del counts[i]\n",
    "        return min(counts)"
   ]
  }
 ],
 "metadata": {
  "kernelspec": {
   "display_name": "Python 3.10.7 64-bit",
   "language": "python",
   "name": "python3"
  },
  "language_info": {
   "name": "python",
   "version": "3.10.7"
  },
  "orig_nbformat": 4,
  "vscode": {
   "interpreter": {
    "hash": "d62193a71e9c74739063326a6f52db4b29a283e9561eba9fd4168253adc03d40"
   }
  }
 },
 "nbformat": 4,
 "nbformat_minor": 2
}
