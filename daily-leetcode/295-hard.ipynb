{
 "cells": [
  {
   "cell_type": "code",
   "execution_count": 18,
   "metadata": {},
   "outputs": [],
   "source": [
    "class MedianFinder:\n",
    "\n",
    "    def __init__(self):\n",
    "        self.nums = []\n",
    "\n",
    "    def addNum(self, num: int) -> None:\n",
    "        if len(self.nums) == 0:\n",
    "            self.nums = [num]\n",
    "        else:\n",
    "            for i in range(len(self.nums)):\n",
    "                if num > self.nums[i]:\n",
    "                    nums = self.nums[:i-1] + [num] + self.nums[i:]\n",
    "                else:\n",
    "                    \n",
    "\n",
    "    def findMedian(self) -> float:\n",
    "        if len(self.nums) == 0:\n",
    "            return 0\n",
    "    \n",
    "    def getNums(self):\n",
    "        print(self.nums)\n",
    "\n",
    "\n",
    "# Your MedianFinder object will be instantiated and called as such:\n",
    "# obj = MedianFinder()\n",
    "# obj.addNum(num)\n",
    "# param_2 = obj.findMedian()"
   ]
  },
  {
   "cell_type": "code",
   "execution_count": 19,
   "metadata": {},
   "outputs": [],
   "source": [
    "obj = MedianFinder()"
   ]
  },
  {
   "cell_type": "code",
   "execution_count": 20,
   "metadata": {},
   "outputs": [],
   "source": [
    "obj.addNum(1)"
   ]
  },
  {
   "cell_type": "code",
   "execution_count": 21,
   "metadata": {},
   "outputs": [],
   "source": [
    "obj.addNum(2)"
   ]
  },
  {
   "cell_type": "code",
   "execution_count": 22,
   "metadata": {},
   "outputs": [],
   "source": [
    "obj.findMedian()"
   ]
  },
  {
   "cell_type": "code",
   "execution_count": 26,
   "metadata": {},
   "outputs": [
    {
     "name": "stdout",
     "output_type": "stream",
     "text": [
      "[1]\n"
     ]
    }
   ],
   "source": [
    "obj.getNums()"
   ]
  }
 ],
 "metadata": {
  "kernelspec": {
   "display_name": "Python 3.10.7 64-bit",
   "language": "python",
   "name": "python3"
  },
  "language_info": {
   "codemirror_mode": {
    "name": "ipython",
    "version": 3
   },
   "file_extension": ".py",
   "mimetype": "text/x-python",
   "name": "python",
   "nbconvert_exporter": "python",
   "pygments_lexer": "ipython3",
   "version": "3.10.7"
  },
  "orig_nbformat": 4,
  "vscode": {
   "interpreter": {
    "hash": "d62193a71e9c74739063326a6f52db4b29a283e9561eba9fd4168253adc03d40"
   }
  }
 },
 "nbformat": 4,
 "nbformat_minor": 2
}
