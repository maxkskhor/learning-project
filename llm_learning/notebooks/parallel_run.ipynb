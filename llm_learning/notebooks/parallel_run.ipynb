{
 "cells": [
  {
   "cell_type": "code",
   "execution_count": 22,
   "id": "36779e46-64b0-4187-8a91-24f147e5480b",
   "metadata": {
    "tags": []
   },
   "outputs": [],
   "source": [
    "import os\n",
    "from langchain.chat_models import ChatOpenAI"
   ]
  },
  {
   "cell_type": "code",
   "execution_count": 23,
   "id": "6bc2fab9-06e5-48f6-8085-6a5dfd07d809",
   "metadata": {
    "tags": []
   },
   "outputs": [],
   "source": [
    "llm = ChatOpenAI(openai_api_key=os.environ['OPENAI_API_KEY'], model='gpt-4')"
   ]
  },
  {
   "cell_type": "code",
   "execution_count": 24,
   "id": "45182dec-e605-481d-9992-7965796e870c",
   "metadata": {
    "tags": []
   },
   "outputs": [
    {
     "data": {
      "text/plain": [
       "'The capital of Malaysia is Kuala Lumpur.'"
      ]
     },
     "execution_count": 24,
     "metadata": {},
     "output_type": "execute_result"
    }
   ],
   "source": [
    "def ai_response(country):\n",
    "    return llm.predict(f'What is the capital of {country}')\n",
    "\n",
    "ai_response('Malaysia')"
   ]
  },
  {
   "cell_type": "code",
   "execution_count": 25,
   "id": "e26d1a67-2b94-4449-9765-087817f4f481",
   "metadata": {
    "tags": []
   },
   "outputs": [
    {
     "name": "stdout",
     "output_type": "stream",
     "text": [
      "The capital of Malaysia is Kuala Lumpur.\n",
      "The capital of France is Paris.\n",
      "The capital of the US is Washington D.C.\n",
      "The capital of the UK (United Kingdom) is London.\n"
     ]
    }
   ],
   "source": [
    "from concurrent.futures import ThreadPoolExecutor\n",
    "args_list = ['Malaysia', 'France', 'US', 'UK']\n",
    "with ThreadPoolExecutor() as executor:\n",
    "    results = executor.map(ai_response, args_list)\n",
    "    for result in results:\n",
    "        print(result)"
   ]
  }
 ],
 "metadata": {
  "kernelspec": {
   "display_name": "Python 3 (ipykernel)",
   "language": "python",
   "name": "python3"
  },
  "language_info": {
   "codemirror_mode": {
    "name": "ipython",
    "version": 3
   },
   "file_extension": ".py",
   "mimetype": "text/x-python",
   "name": "python",
   "nbconvert_exporter": "python",
   "pygments_lexer": "ipython3",
   "version": "3.10.13"
  }
 },
 "nbformat": 4,
 "nbformat_minor": 5
}
