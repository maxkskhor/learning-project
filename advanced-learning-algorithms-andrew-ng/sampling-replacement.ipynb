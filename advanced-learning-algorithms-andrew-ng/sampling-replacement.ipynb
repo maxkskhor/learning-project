{
 "cells": [
  {
   "cell_type": "code",
   "execution_count": 9,
   "metadata": {},
   "outputs": [],
   "source": [
    "import numpy as np\n",
    "import math"
   ]
  },
  {
   "cell_type": "code",
   "execution_count": 10,
   "metadata": {},
   "outputs": [],
   "source": [
    "c = []\n",
    "for i in range(100):\n",
    "    c.append(i)"
   ]
  },
  {
   "cell_type": "code",
   "execution_count": 11,
   "metadata": {},
   "outputs": [
    {
     "name": "stdout",
     "output_type": "stream",
     "text": [
      "36.6232\n",
      "36.787944117144235\n"
     ]
    }
   ],
   "source": [
    "# sampling\n",
    "iterate = 10000\n",
    "count = []\n",
    "\n",
    "for _ in range(iterate):\n",
    "    s = []\n",
    "    for _ in range(100):\n",
    "        s.append(c[np.random.randint(0,100)])\n",
    "    count.append(len(set(c) - set(s)))\n",
    "\n",
    "print(sum(count)/len(count))\n",
    "print(f\"{(1/math.exp(1))*100}\")"
   ]
  }
 ],
 "metadata": {
  "kernelspec": {
   "display_name": "Python 3.10.7 64-bit",
   "language": "python",
   "name": "python3"
  },
  "language_info": {
   "codemirror_mode": {
    "name": "ipython",
    "version": 3
   },
   "file_extension": ".py",
   "mimetype": "text/x-python",
   "name": "python",
   "nbconvert_exporter": "python",
   "pygments_lexer": "ipython3",
   "version": "3.10.7"
  },
  "orig_nbformat": 4,
  "vscode": {
   "interpreter": {
    "hash": "d62193a71e9c74739063326a6f52db4b29a283e9561eba9fd4168253adc03d40"
   }
  }
 },
 "nbformat": 4,
 "nbformat_minor": 2
}
